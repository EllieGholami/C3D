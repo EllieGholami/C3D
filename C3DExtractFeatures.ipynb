{
  "nbformat": 4,
  "nbformat_minor": 0,
  "metadata": {
    "colab": {
      "name": "C3DExtractFeatures.ipynb",
      "version": "0.3.2",
      "provenance": [],
      "collapsed_sections": [],
      "toc_visible": true
    },
    "kernelspec": {
      "name": "python3",
      "display_name": "Python 3"
    },
    "accelerator": "GPU"
  },
  "cells": [
    {
      "cell_type": "markdown",
      "metadata": {
        "id": "WhebpG5qNmOV",
        "colab_type": "text"
      },
      "source": [
        "# Prerequisites"
      ]
    },
    {
      "cell_type": "markdown",
      "metadata": {
        "id": "sVZCAxRUHvM7",
        "colab_type": "text"
      },
      "source": [
        "## Mount Google drive"
      ]
    },
    {
      "cell_type": "code",
      "metadata": {
        "id": "4LJ_SouAHuc-",
        "colab_type": "code",
        "colab": {}
      },
      "source": [
        "from google.colab import drive\n",
        "drive.mount('/content/drive')"
      ],
      "execution_count": 0,
      "outputs": []
    },
    {
      "cell_type": "markdown",
      "metadata": {
        "id": "6cMv2pI4Nvul",
        "colab_type": "text"
      },
      "source": [
        "## Setup the repo"
      ]
    },
    {
      "cell_type": "code",
      "metadata": {
        "id": "GPWgJc9Ovp8Q",
        "colab_type": "code",
        "colab": {}
      },
      "source": [
        "%cd /content/C3D\n",
        "!sh setup.sh"
      ],
      "execution_count": 0,
      "outputs": []
    },
    {
      "cell_type": "code",
      "metadata": {
        "id": "nZboRTCccmN0",
        "colab_type": "code",
        "colab": {}
      },
      "source": [
        "# compile\n",
        "\n",
        "%cd /content/C3D/C3D-v1.0/\n",
        "!make clean\n",
        "!make all -j8"
      ],
      "execution_count": 0,
      "outputs": []
    },
    {
      "cell_type": "code",
      "metadata": {
        "id": "A0oP4_pjff5u",
        "colab_type": "code",
        "colab": {}
      },
      "source": [
        "!make test"
      ],
      "execution_count": 0,
      "outputs": []
    },
    {
      "cell_type": "code",
      "metadata": {
        "id": "nGe6y0K008jQ",
        "colab_type": "code",
        "colab": {}
      },
      "source": [
        "%cd /content/C3D/C3D-v1.0/examples/c3d_feature_extraction/\n",
        "!wget -O conv3d_deepnetA_sport1m_iter_1900000 https://www.dropbox.com/s/vr8ckp0pxgbldhs/conv3d_deepnetA_sport1m_iter_1900000?dl=0"
      ],
      "execution_count": 0,
      "outputs": []
    },
    {
      "cell_type": "markdown",
      "metadata": {
        "id": "c5GeAQAZNy2s",
        "colab_type": "text"
      },
      "source": [
        "## Test the model (optional)"
      ]
    },
    {
      "cell_type": "code",
      "metadata": {
        "id": "pMsABhsjELnl",
        "colab_type": "code",
        "colab": {}
      },
      "source": [
        "!python extract_C3D_feature.py /content/C3D/C3D-v1.0/examples/c3d_feature_extraction/input/avi/v_BaseballPitch_g01_c01.avi"
      ],
      "execution_count": 0,
      "outputs": []
    },
    {
      "cell_type": "markdown",
      "metadata": {
        "id": "R6-kZOfeN414",
        "colab_type": "text"
      },
      "source": [
        "# Download Dataset"
      ]
    },
    {
      "cell_type": "code",
      "metadata": {
        "id": "flM1FRVHHuv-",
        "colab_type": "code",
        "colab": {}
      },
      "source": [
        "!curl --header 'Host: ucd98cd347db7465cb3ef97fd26a.dl.dropboxusercontent.com' --user-agent 'Mozilla/5.0 (X11; Ubuntu; Linux x86_64; rv:68.0) Gecko/20100101 Firefox/68.0' --header 'Accept: text/html,application/xhtml+xml,application/xml;q=0.9,*/*;q=0.8' --header 'Accept-Language: en-US,en;q=0.5' --referer 'https://www.dropbox.com/' --header 'Upgrade-Insecure-Requests: 1' 'https://ucd98cd347db7465cb3ef97fd26a.dl.dropboxusercontent.com/cd/0/get/AnR9Jsk6zcP6HyVNZfdVUM42i3ZxTiLje8TwolL6IHXCTHiEWJxyDfHuUESxDuj8OPPmIzouzWYmQcrlVLz-CVgwTTDooW54b9lxWOA0EQVQ8g/file?_download_id=12935199993344826421557644865371451015668816935122967780946183237&_notify_domain=www.dropbox.com&dl=1' --output 'Anomaly-Videos-Part-1.zip'"
      ],
      "execution_count": 0,
      "outputs": []
    },
    {
      "cell_type": "code",
      "metadata": {
        "id": "0HzDuVcFMhF6",
        "colab_type": "code",
        "colab": {}
      },
      "source": [
        "!unzip -q Anomaly-Videos-Part-1.zip"
      ],
      "execution_count": 0,
      "outputs": []
    },
    {
      "cell_type": "markdown",
      "metadata": {
        "id": "F3J2XFImORIR",
        "colab_type": "text"
      },
      "source": [
        "# Extracting features"
      ]
    },
    {
      "cell_type": "code",
      "metadata": {
        "id": "aiuDO5Uz-l3q",
        "colab_type": "code",
        "colab": {}
      },
      "source": [
        "%cd /content/C3D/C3D-v1.0/examples/c3d_feature_extraction/"
      ],
      "execution_count": 0,
      "outputs": []
    },
    {
      "cell_type": "code",
      "metadata": {
        "id": "-g4sVfZwNWrZ",
        "colab_type": "code",
        "colab": {}
      },
      "source": [
        "import os\n",
        "from extract_C3D_feature import main as extract_features\n",
        "import shutil"
      ],
      "execution_count": 0,
      "outputs": []
    },
    {
      "cell_type": "markdown",
      "metadata": {
        "id": "cGdnxzJCOZcs",
        "colab_type": "text"
      },
      "source": [
        "## For anomalies"
      ]
    },
    {
      "cell_type": "code",
      "metadata": {
        "id": "LinmiZNYN7-J",
        "colab_type": "code",
        "colab": {}
      },
      "source": [
        "root = os.path.join(os.getcwd(), 'Anomaly-Videos-Part-1')\n",
        "out_dir = '/content/Output'\n",
        "\n",
        "for category in os.listdir(root):\n",
        "    for vid in os.listdir(os.path.join(root, category)):\n",
        "        extract_features(os.path.join(root, category, vid), os.path.join(out_dir, vid)[:-4])"
      ],
      "execution_count": 0,
      "outputs": []
    },
    {
      "cell_type": "code",
      "metadata": {
        "id": "5M95ilsvE8NI",
        "colab_type": "code",
        "colab": {}
      },
      "source": [
        "!tar -cvf part1c3d.tar /content/Output/"
      ],
      "execution_count": 0,
      "outputs": []
    },
    {
      "cell_type": "code",
      "metadata": {
        "id": "oTlHAJVjF926",
        "colab_type": "code",
        "colab": {}
      },
      "source": [
        "!mv part1c3d.tar /content/drive/My\\ Drive"
      ],
      "execution_count": 0,
      "outputs": []
    },
    {
      "cell_type": "code",
      "metadata": {
        "id": "Y5P9dbeYIXgZ",
        "colab_type": "code",
        "colab": {}
      },
      "source": [
        ""
      ],
      "execution_count": 0,
      "outputs": []
    }
  ]
}