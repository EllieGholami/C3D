{
 "cells": [
  {
   "cell_type": "markdown",
   "metadata": {
    "colab_type": "text",
    "id": "WhebpG5qNmOV"
   },
   "source": [
    "# Prerequisites"
   ]
  },
  {
   "cell_type": "markdown",
   "metadata": {
    "colab_type": "text",
    "id": "sVZCAxRUHvM7"
   },
   "source": [
    "## Mount Google drive"
   ]
  },
  {
   "cell_type": "code",
   "execution_count": 0,
   "metadata": {
    "colab": {},
    "colab_type": "code",
    "id": "4LJ_SouAHuc-"
   },
   "outputs": [],
   "source": [
    "from google.colab import drive\n",
    "drive.mount('/content/drive')"
   ]
  },
  {
   "cell_type": "markdown",
   "metadata": {
    "colab_type": "text",
    "id": "6cMv2pI4Nvul"
   },
   "source": [
    "## Setup the repo"
   ]
  },
  {
   "cell_type": "code",
   "execution_count": 0,
   "metadata": {
    "colab": {},
    "colab_type": "code",
    "id": "GPWgJc9Ovp8Q"
   },
   "outputs": [],
   "source": [
    "%cd /content/C3D\n",
    "!sh setup.sh"
   ]
  },
  {
   "cell_type": "code",
   "execution_count": 0,
   "metadata": {
    "colab": {},
    "colab_type": "code",
    "id": "nZboRTCccmN0"
   },
   "outputs": [],
   "source": [
    "# compile\n",
    "\n",
    "%cd /content/C3D/C3D-v1.0/\n",
    "!make clean\n",
    "!make all -j8"
   ]
  },
  {
   "cell_type": "code",
   "execution_count": 0,
   "metadata": {
    "colab": {},
    "colab_type": "code",
    "id": "A0oP4_pjff5u"
   },
   "outputs": [],
   "source": [
    "!make test"
   ]
  },
  {
   "cell_type": "code",
   "execution_count": 0,
   "metadata": {
    "colab": {},
    "colab_type": "code",
    "id": "nGe6y0K008jQ"
   },
   "outputs": [],
   "source": [
    "%cd /content/C3D/C3D-v1.0/examples/c3d_feature_extraction/\n",
    "!wget -O conv3d_deepnetA_sport1m_iter_1900000 https://www.dropbox.com/s/vr8ckp0pxgbldhs/conv3d_deepnetA_sport1m_iter_1900000?dl=0"
   ]
  },
  {
   "cell_type": "code",
   "execution_count": 0,
   "metadata": {
    "colab": {},
    "colab_type": "code",
    "id": "-g4sVfZwNWrZ"
   },
   "outputs": [],
   "source": [
    "import os\n",
    "from extract_C3D_feature import main as extract_features\n",
    "import shutil"
   ]
  },
  {
   "cell_type": "markdown",
   "metadata": {
    "colab_type": "text",
    "id": "c5GeAQAZNy2s"
   },
   "source": [
    "## Test the model (optional)"
   ]
  },
  {
   "cell_type": "code",
   "execution_count": 0,
   "metadata": {
    "colab": {},
    "colab_type": "code",
    "id": "pMsABhsjELnl"
   },
   "outputs": [],
   "source": [
    "root = os.path.join(os.getcwd(), 'input/avi/v_BaseballPitch_g01_c01.avi')\n",
    "out_dir = '/content/Output'\n",
    "\n",
    "extract_features(root, os.path.join(out_dir, root.split('/')[-1])[:-4], True, True)"
   ]
  },
  {
   "cell_type": "markdown",
   "metadata": {
    "colab_type": "text",
    "id": "R6-kZOfeN414"
   },
   "source": [
    "# Download Dataset"
   ]
  },
  {
   "cell_type": "code",
   "execution_count": 0,
   "metadata": {
    "colab": {},
    "colab_type": "code",
    "id": "flM1FRVHHuv-"
   },
   "outputs": [],
   "source": [
    "!curl --header 'Host: ucd98cd347db7465cb3ef97fd26a.dl.dropboxusercontent.com' --user-agent 'Mozilla/5.0 (X11; Ubuntu; Linux x86_64; rv:68.0) Gecko/20100101 Firefox/68.0' --header 'Accept: text/html,application/xhtml+xml,application/xml;q=0.9,*/*;q=0.8' --header 'Accept-Language: en-US,en;q=0.5' --referer 'https://www.dropbox.com/' --header 'Upgrade-Insecure-Requests: 1' 'https://ucd98cd347db7465cb3ef97fd26a.dl.dropboxusercontent.com/cd/0/get/AnR9Jsk6zcP6HyVNZfdVUM42i3ZxTiLje8TwolL6IHXCTHiEWJxyDfHuUESxDuj8OPPmIzouzWYmQcrlVLz-CVgwTTDooW54b9lxWOA0EQVQ8g/file?_download_id=12935199993344826421557644865371451015668816935122967780946183237&_notify_domain=www.dropbox.com&dl=1' --output 'Anomaly-Videos-Part-1.zip'"
   ]
  },
  {
   "cell_type": "code",
   "execution_count": 0,
   "metadata": {
    "colab": {},
    "colab_type": "code",
    "id": "0HzDuVcFMhF6"
   },
   "outputs": [],
   "source": [
    "!unzip -q Anomaly-Videos-Part-1.zip"
   ]
  },
  {
   "cell_type": "markdown",
   "metadata": {
    "colab_type": "text",
    "id": "F3J2XFImORIR"
   },
   "source": [
    "# Extracting features"
   ]
  },
  {
   "cell_type": "code",
   "execution_count": 0,
   "metadata": {
    "colab": {},
    "colab_type": "code",
    "id": "aiuDO5Uz-l3q"
   },
   "outputs": [],
   "source": [
    "%cd /content/C3D/C3D-v1.0/examples/c3d_feature_extraction/"
   ]
  },
  {
   "cell_type": "markdown",
   "metadata": {
    "colab_type": "text",
    "id": "cGdnxzJCOZcs"
   },
   "source": [
    "## For anomalies"
   ]
  },
  {
   "cell_type": "code",
   "execution_count": 0,
   "metadata": {
    "colab": {},
    "colab_type": "code",
    "id": "LinmiZNYN7-J"
   },
   "outputs": [],
   "source": [
    "root = os.path.join(os.getcwd(), 'Anomaly-Videos-Part-1')\n",
    "out_dir = '/content/Output'\n",
    "\n",
    "for category in os.listdir(root):\n",
    "    for vid in os.listdir(os.path.join(root, category)):\n",
    "        extract_features(os.path.join(root, category, vid), os.path.join(out_dir, vid)[:-4])"
   ]
  },
  {
   "cell_type": "markdown",
   "metadata": {},
   "source": [
    "## For normal"
   ]
  },
  {
   "cell_type": "code",
   "execution_count": null,
   "metadata": {},
   "outputs": [],
   "source": [
    "root = os.path.join(os.getcwd(), 'Training-Normal-Videos-Part-1')\n",
    "out_dir = '/content/Output'\n",
    "\n",
    "for vid in os.listdir(root):\n",
    "    extract_features(os.path.join(root, vid), os.path.join(out_dir, vid)[:-4])"
   ]
  },
  {
   "cell_type": "markdown",
   "metadata": {},
   "source": [
    "## Make archive and save to drive"
   ]
  },
  {
   "cell_type": "code",
   "execution_count": 0,
   "metadata": {
    "colab": {},
    "colab_type": "code",
    "id": "5M95ilsvE8NI"
   },
   "outputs": [],
   "source": [
    "!tar -cvf part1c3d.tar /content/Output/"
   ]
  },
  {
   "cell_type": "code",
   "execution_count": 0,
   "metadata": {
    "colab": {},
    "colab_type": "code",
    "id": "oTlHAJVjF926"
   },
   "outputs": [],
   "source": [
    "!mv part1c3d.tar /content/drive/My\\ Drive"
   ]
  },
  {
   "cell_type": "code",
   "execution_count": 0,
   "metadata": {
    "colab": {},
    "colab_type": "code",
    "id": "Y5P9dbeYIXgZ"
   },
   "outputs": [],
   "source": []
  }
 ],
 "metadata": {
  "accelerator": "GPU",
  "colab": {
   "collapsed_sections": [],
   "name": "C3DExtractFeatures.ipynb",
   "provenance": [],
   "toc_visible": true,
   "version": "0.3.2"
  },
  "kernelspec": {
   "display_name": "Python 3",
   "language": "python",
   "name": "python3"
  },
  "language_info": {
   "codemirror_mode": {
    "name": "ipython",
    "version": 3
   },
   "file_extension": ".py",
   "mimetype": "text/x-python",
   "name": "python",
   "nbconvert_exporter": "python",
   "pygments_lexer": "ipython3",
   "version": "3.7.3"
  }
 },
 "nbformat": 4,
 "nbformat_minor": 1
}
